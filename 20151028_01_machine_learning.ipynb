{
 "cells": [
  {
   "cell_type": "code",
   "execution_count": 1,
   "id": "2f18e2a8-ef26-4a5a-9bab-2943c48b5d07",
   "metadata": {},
   "outputs": [],
   "source": [
    "import pandas as pd\n",
    "from sklearn.model_selection import train_test_split\n",
    "from sklearn.linear_model import LinearRegression"
   ]
  },
  {
   "cell_type": "code",
   "execution_count": 4,
   "id": "121d28d8-f592-4198-ba84-520c53b575bb",
   "metadata": {},
   "outputs": [],
   "source": [
    "import numpy as np"
   ]
  },
  {
   "cell_type": "code",
   "execution_count": 5,
   "id": "935de672-7220-4b13-acce-46a96ca6bcf3",
   "metadata": {},
   "outputs": [],
   "source": [
    "from collections import defaultdict"
   ]
  },
  {
   "cell_type": "markdown",
   "id": "77b74dcf-78af-4464-b18b-f354b0168192",
   "metadata": {},
   "source": [
    "#### Bradley-Terry（BT）模型"
   ]
  },
  {
   "cell_type": "code",
   "execution_count": 2,
   "id": "2754a71d-d152-4b4f-88a2-3d51cd900d10",
   "metadata": {},
   "outputs": [
    {
     "data": {
      "text/plain": [
       "array([ 0.54930614, -0.54930614,  0.54930614, -0.54930614])"
      ]
     },
     "execution_count": 2,
     "metadata": {},
     "output_type": "execute_result"
    }
   ],
   "source": [
    "import choix\n",
    "\n",
    "# 假设共有4张图\n",
    "# 每一项是一个比较(winner,loser)\n",
    "\n",
    "comparisons = [\n",
    "    (0,1),(0,2),(3,0),\n",
    "    (2,1),(1,3),(2,3)\n",
    "]\n",
    "\n",
    "# 拟合BT模型,返回每张图的能力值\n",
    "scores = choix.ilsr_pairwise(n_items = 4,data = comparisons)\n",
    "scores"
   ]
  },
  {
   "cell_type": "code",
   "execution_count": 15,
   "id": "c3d1cf50-6609-4e2a-bb5e-9245e2040208",
   "metadata": {
    "scrolled": true
   },
   "outputs": [
    {
     "name": "stdout",
     "output_type": "stream",
     "text": [
      "收敛于第2次迭代\n"
     ]
    },
    {
     "data": {
      "text/plain": [
       "{'50f5eb24fdc9f065f000804d': 1.0,\n",
       " '5140c934fdc9f0492600247d': 1.0,\n",
       " '51414d8bfdc9f04926007602': 1.0,\n",
       " '513ccf22fdc9f03587001dc3': 1.0,\n",
       " '513d68eefdc9f0358700454d': 1.0,\n",
       " '513e6c97fdc9f0358700c1ae': 1.0,\n",
       " '50f46455fdc9f065f00045b8': 1.0,\n",
       " '50f5612efdc9f065f000550c': 1.0,\n",
       " '50f4347efdc9f065f000289a': 1.0,\n",
       " '513e62c8fdc9f0358700b74a': 0.0,\n",
       " '50f5ead5fdc9f065f0007dbf': 1.0,\n",
       " '50f5e58efdc9f065f0006a00': 0.0,\n",
       " '5141393ffdc9f04926005408': 1.0,\n",
       " '513f329ffdc9f0358700e0b3': 1.0,\n",
       " '5140b70efdc9f049260018c8': 1.0,\n",
       " '50f42c47fdc9f065f00019ff': 1.0,\n",
       " '5141497ffdc9f04926006deb': 1.0,\n",
       " '5140d7ddfdc9f049260038cd': 1.0,\n",
       " '50f5e76bfdc9f065f0007187': 0.0,\n",
       " '51413cc8fdc9f04926005bc5': 0.0,\n",
       " '513d68f6fdc9f03587004568': 1.0,\n",
       " '513cba3cfdc9f03587000db4': 1.0,\n",
       " '514150c0fdc9f04926007e17': 1.0,\n",
       " '51409c2cfdc9f04926001172': 1.0,\n",
       " '51414142fdc9f04926006184': 1.0,\n",
       " '513d5c99fdc9f0358700374e': 1.0,\n",
       " '50f60b92beb2fed9100000b6': 0.0,\n",
       " '513d609bfdc9f03587003d3f': 0.0,\n",
       " '513e1cfbfdc9f035870098a4': 1.0,\n",
       " '513e5d97fdc9f0358700ae37': 1.0,\n",
       " '513d6b57fdc9f03587004cc9': 0.0,\n",
       " '50f42b50fdc9f065f0001306': 1.0,\n",
       " '50f607d1beb2fed6f800026d': 1.0,\n",
       " '50f60b99beb2fed910000112': 1.0,\n",
       " '513cb60cfdc9f035870009d8': 1.0,\n",
       " '50f5ed9afdc9f065f0008e2d': 1.0,\n",
       " '50f5ed9cfdc9f065f0008e6d': 1.0,\n",
       " '513e6f36fdc9f0358700c53e': 1.0,\n",
       " '513f29d5fdc9f0358700d430': 0.0,\n",
       " '513e23a5fdc9f0358700a6cf': 1.0,\n",
       " '51414937fdc9f04926006da2': 0.0,\n",
       " '51392a3a818ede1296001179': 1.0,\n",
       " '50f44560fdc9f065f0003457': 1.0,\n",
       " '513d9fc7fdc9f03587008805': 0.0,\n",
       " '513e1d9ffdc9f03587009a4b': 1.0,\n",
       " '50f5eeb2fdc9f065f0009032': 1.0,\n",
       " '513e2076fdc9f0358700a1ef': 1.0,\n",
       " '514147c1fdc9f04926006b1b': 1.0,\n",
       " '513e1ed6fdc9f03587009d8b': 0.0,\n",
       " '513d9d25fdc9f03587007f8c': 0.0,\n",
       " '513f135afdc9f0358700cac9': 0.0,\n",
       " '50f44869fdc9f065f0004060': 1.0,\n",
       " '51413ab7fdc9f049260057a0': 0.0,\n",
       " '50f445b0fdc9f065f00035ce': 0.0,\n",
       " '50f5ee94fdc9f065f0008ea8': 1.0,\n",
       " '513cbe50fdc9f03587001181': 0.0,\n",
       " '514134d4fdc9f049260047d5': 1.0,\n",
       " '513d7f68fdc9f035870075e0': 1.0,\n",
       " '51409d5ffdc9f049260012e1': 1.0,\n",
       " '51409b6dfdc9f0492600108b': 1.0,\n",
       " '513e2073fdc9f0358700a1e8': 1.0,\n",
       " '513f29b4fdc9f0358700d3fd': 0.0,\n",
       " '50f561ccfdc9f065f0005760': 0.0,\n",
       " '513d6aa4fdc9f03587004b04': 1.0,\n",
       " '5185cb5afdc9f03fd5000b1e': 1.0,\n",
       " '50f61681beb2fed910000968': 0.0,\n",
       " '513d37f4fdc9f03587002c2a': 0.0,\n",
       " '513d6ca6fdc9f03587005008': 1.0,\n",
       " '513f3372fdc9f0358700e158': 1.0,\n",
       " '50f42c4cfdc9f065f0001a72': 0.0,\n",
       " '5140ca80fdc9f04926002865': 0.0,\n",
       " '513d5c81fdc9f03587003723': 1.0,\n",
       " '513e6e02fdc9f0358700c39b': 1.0,\n",
       " '50f56433fdc9f065f00061b1': 1.0,\n",
       " '513d7eeefdc9f035870074eb': 1.0,\n",
       " '5140b846fdc9f04926001bf5': 0.0,\n",
       " '513f29c5fdc9f0358700d413': 1.0,\n",
       " '51409a80fdc9f04926000f5f': 1.0,\n",
       " '513d565bfdc9f03587002f8c': 1.0,\n",
       " '50f439fafdc9f065f0002e43': 1.0,\n",
       " '513cbbdefdc9f03587000f37': 1.0,\n",
       " '50f56194fdc9f065f000555d': 1.0,\n",
       " '50f5ed54fdc9f065f0008c0f': 0.0,\n",
       " '513d790afdc9f0358700638f': 1.0,\n",
       " '513d363cfdc9f03587002b78': 0.0,\n",
       " '50f562e2fdc9f065f0005b2e': 1.0,\n",
       " '513e6bb2fdc9f0358700c07a': 1.0,\n",
       " '5140d8a4fdc9f04926003a5a': 1.0,\n",
       " '51409aeffdc9f04926000fe2': 1.0,\n",
       " '50f42bb5fdc9f065f0001655': 1.0,\n",
       " '513d6112fdc9f03587003dcd': 1.0,\n",
       " '513d7d16fdc9f035870070dd': 1.0,\n",
       " '513cbc16fdc9f03587000f6a': 1.0,\n",
       " '513d6a0bfdc9f03587004930': 1.0,\n",
       " '51408f74fdc9f049260000d0': 1.0,\n",
       " '5140cab6fdc9f0492600290d': 1.0,\n",
       " '513d9f10fdc9f03587008603': 1.0,\n",
       " '51414dcefdc9f049260076b3': 1.0,\n",
       " '50f4485dfdc9f065f0003f3c': 0.0,\n",
       " '50f46483fdc9f065f000468c': 1.0,\n",
       " '5140daf0fdc9f04926003e5a': 1.0,\n",
       " '513f2e64fdc9f0358700dbda': 1.0,\n",
       " '513d6e5ffdc9f035870052ce': 1.0,\n",
       " '5185ce80fdc9f03fd5000e39': 1.0,\n",
       " '50f46456fdc9f065f00045f2': 1.0,\n",
       " '5141347afdc9f04926004688': 1.0,\n",
       " '513da087fdc9f035870089c3': 1.0,\n",
       " '513e6ac1fdc9f0358700bf3d': 1.0,\n",
       " '513f3252fdc9f0358700e069': 1.0,\n",
       " '514134d9fdc9f049260047e6': 1.0,\n",
       " '513e6537fdc9f0358700b933': 0.0,\n",
       " '50f43aabfdc9f065f0002eea': 0.0,\n",
       " '50f55e33fdc9f065f0004b21': 1.0,\n",
       " '50f562e3fdc9f065f0005b58': 1.0,\n",
       " '50f5ea60fdc9f065f0007b1b': 1.0,\n",
       " '513d3282fdc9f035870028c3': 0.0,\n",
       " '50f46484fdc9f065f00046a5': 1.0,\n",
       " '513d6b3dfdc9f03587004c8e': 1.0,\n",
       " '5140d8d9fdc9f04926003aca': 1.0,\n",
       " '514133d0fdc9f0492600442f': 1.0,\n",
       " '51408b9dfdc9f0358700e97c': 1.0,\n",
       " '513d3448fdc9f03587002a06': 1.0,\n",
       " '5140ca91fdc9f0492600289d': 0.0,\n",
       " '51409d0bfdc9f0492600127c': 0.0,\n",
       " '51408c4bfdc9f0358700ead0': 1.0,\n",
       " '513d9b61fdc9f035870079c2': 1.0,\n",
       " '513e6199fdc9f0358700b588': 1.0,\n",
       " '51409a75fdc9f04926000f53': 1.0,\n",
       " '5140906bfdc9f049260002bf': 1.0,\n",
       " '5140b768fdc9f049260019c3': 1.0,\n",
       " '513d784efdc9f03587006109': 1.0,\n",
       " '513d6dfcfdc9f0358700523b': 1.0,\n",
       " '50f4643efdc9f065f000440c': 1.0,\n",
       " '51421b30fdc9f04926008419': 1.0,\n",
       " '5140b9bcfdc9f04926001ef0': 0.0,\n",
       " '513d9cadfdc9f03587007e0b': 1.0,\n",
       " '513e1edafdc9f03587009d95': 0.0,\n",
       " '50f55e6ffdc9f065f0004ca6': 1.0,\n",
       " '5140ca37fdc9f0492600278a': 1.0,\n",
       " '513d3288fdc9f035870028c8': 1.0,\n",
       " '513d9d2dfdc9f03587007fa9': 1.0,\n",
       " '513e5bf0fdc9f0358700a9ab': 1.0,\n",
       " '5185cf08fdc9f03fd5000ebe': 0.0,\n",
       " '513e5c88fdc9f0358700ab48': 0.0,\n",
       " '5140b857fdc9f04926001c18': 1.0,\n",
       " '513cc062fdc9f03587001389': 1.0,\n",
       " '513d5eb2fdc9f03587003ad0': 0.0,\n",
       " '513cbadefdc9f03587000e4b': 1.0,\n",
       " '513d9f29fdc9f03587008659': 0.0,\n",
       " '513d2f06fdc9f0358700260d': 1.0,\n",
       " '513d9dc7fdc9f035870081bc': 0.0,\n",
       " '50f42c80fdc9f065f0001e08': 0.0,\n",
       " '513e5f3bfdc9f0358700b1eb': 0.0,\n",
       " '513d5dfbfdc9f035870039b0': 0.0,\n",
       " '514147c5fdc9f04926006b22': 1.0,\n",
       " '513f1188fdc9f0358700c84e': 1.0,\n",
       " '513cb524fdc9f035870008ed': 1.0,\n",
       " '513d78d5fdc9f035870062d4': 1.0,\n",
       " '513d7f03fdc9f03587007510': 1.0,\n",
       " '50f5609bfdc9f065f00052a6': 1.0,\n",
       " '514138e9fdc9f0492600532a': 1.0,\n",
       " '50f44814fdc9f065f0003df4': 0.0,\n",
       " '5140cb24fdc9f04926002a76': 1.0,\n",
       " '514145f9fdc9f049260066e1': 0.0,\n",
       " '50e5faedd7c3df413b000768': 1.0,\n",
       " '513cdcfcfdc9f0358700209c': 1.0,\n",
       " '513e6c16fdc9f0358700c101': 0.0,\n",
       " '513cbbd0fdc9f03587000f2a': 0.0,\n",
       " '513d9fe3fdc9f03587008844': 1.0,\n",
       " '50f5eaf4fdc9f065f0007ece': 0.0,\n",
       " '51409de6fdc9f0492600138d': 1.0,\n",
       " '50f563b0fdc9f065f0005d6f': 0.0,\n",
       " '513d6b11fdc9f03587004c22': 1.0,\n",
       " '50f5644afdc9f065f00061ff': 1.0,\n",
       " '51414758fdc9f04926006a23': 1.0,\n",
       " '513d7feefdc9f0358700766c': 0.0,\n",
       " '51409d31fdc9f049260012b0': 1.0,\n",
       " '513e1cfcfdc9f035870098a9': 1.0,\n",
       " '50f4347efdc9f065f0002895': 0.0,\n",
       " '514147ecfdc9f04926006b87': 1.0,\n",
       " '51409491fdc9f049260008b5': 1.0,\n",
       " '51413d69fdc9f04926005d23': 0.0,\n",
       " '50f5e690fdc9f065f0006d6f': 0.0,\n",
       " '50f5ebcffdc9f065f00085ab': 1.0,\n",
       " '513d5db3fdc9f03587003939': 1.0,\n",
       " '513d5cb1fdc9f03587003777': 0.0,\n",
       " '513d9c58fdc9f03587007ce1': 1.0,\n",
       " '5140997bfdc9f04926000e0d': 1.0,\n",
       " '513d9a72fdc9f035870076ce': 0.0,\n",
       " '513f2fb2fdc9f0358700de0d': 1.0,\n",
       " '50f4348cfdc9f065f0002940': 1.0,\n",
       " '513d9cbffdc9f03587007e45': 1.0,\n",
       " '513cd18cfdc9f03587001e36': 0.0,\n",
       " '513d56affdc9f0358700301c': 0.0,\n",
       " '513e6166fdc9f0358700b53c': 1.0,\n",
       " '513d9eddfdc9f03587008552': 1.0,\n",
       " '5142197dfdc9f0492600824b': 0.0,\n",
       " '513f28ebfdc9f0358700d294': 1.0,\n",
       " '513e1a2ffdc9f0358700913e': 1.0,\n",
       " '513e6024fdc9f0358700b350': 1.0}"
      ]
     },
     "execution_count": 15,
     "metadata": {},
     "output_type": "execute_result"
    }
   ],
   "source": [
    "df_vote = pd.read_csv('/Users/zhaojunran/Documents/Python_Urban_Perception_and_Visual_Character/MIT_Place_Pulse_archive/votes_clean.csv')\n",
    "df_vote = df_vote.sample(100)\n",
    "\n",
    "def compute_bt_scores(df_votes,max_iter=1000,tol=1e-6): # tol：收敛阈值，默认值为 1e-6\n",
    "    \n",
    "    # 初始化能力值,所有图片初始值为1.0 | 注意不能为0\n",
    "    items = set(df_votes['left']).union(set(df_votes['right']))\n",
    "    # set(df_votes['right']) 的作用是从 df_votes 数据框的 right 列中提取所有不同的元素，并将这些元素存储在一个集合（set）\n",
    "    # 从 df_votes 的 'left' 列和 'right' 列中提取所有不同的元素，合并后得到一个集合 items\n",
    "    # 这些元素代表参与投票的所有图片\n",
    "    pi = {item:1.0 for item in items}\n",
    "    # 创建一个字典 pi，键为 items 集合中的每个元素（即每张图片），值初始化为 1.0\n",
    "    # 这个字典用于存储每张图片的能力值\n",
    "\n",
    "    for iteration in range(max_iter): # 开始一个循环，循环次数最多为 max_iter 次\n",
    "        pi_old = pi.copy()\n",
    "        numerators = defaultdict(float)\n",
    "        denominators = defaultdict(float)\n",
    "        # 创建两个默认字典 numerators 和 denominators，默认值为浮点数 0.0\n",
    "        # numerators 用于存储每个图片的分子值\n",
    "        # denominators 用于存储每个图片的分母值\n",
    "\n",
    "        for _,row in df_vote.iterrows():  # 遍历 df_votes 中的每一行\n",
    "            \n",
    "            A = row['left']\n",
    "            B = row['right']\n",
    "            choice = row['choice']\n",
    "            \n",
    "            # 从能力值字典 pi 中获取图片 A 和 B 的当前能力值\n",
    "            pi_A = pi[A]\n",
    "            pi_B = pi[B]\n",
    "            denom = pi_A + pi_B  # 计算分母，即图片 A 和 B 的能力值之和\n",
    "\n",
    "            if choice == 'left':\n",
    "                numerators[A] += 1\n",
    "            else:\n",
    "                numerators[B] += 1\n",
    "            # 根据投票选择，如果选择了 'left'，则图片 A 的分子值加 1；否则图片 B 的分子值加 1\n",
    "\n",
    "            denominators[A] += 1/denom\n",
    "            denominators[A] += 1/denom\n",
    "            # 图片 A 和 B 的分母值都加上 1 除以分母的值\n",
    "\n",
    "        # 更新每个item的能力值\n",
    "        for item in pi:\n",
    "            if denominators[item] > 0:\n",
    "                pi[item] = numerators[item]/denominators[item]\n",
    "                # 对于每个图片，如果其分母值大于 0，则更新其能力值为分子值除以分母值\n",
    "\n",
    "        # 计算迭代前后能力值的最大差异\n",
    "        diff = max(abs(pi[item] - pi_old[item]) for item in pi)\n",
    "\n",
    "        if diff < tol:\n",
    "            print(f'收敛于第{iteration + 1}次迭代')\n",
    "            break\n",
    "            # 如果最大差异小于收敛阈值 tol，则打印收敛信息并跳出循环\n",
    "    \n",
    "    return pi\n",
    "    \n",
    "pi = compute_bt_scores(df_vote)\n",
    "pi"
   ]
  },
  {
   "cell_type": "code",
   "execution_count": 16,
   "id": "afd2388e-c80e-4292-b8e1-c80810dbda19",
   "metadata": {},
   "outputs": [],
   "source": [
    "pi_copy = pd.DataFrame.from_dict(pi,orient = 'index')"
   ]
  },
  {
   "cell_type": "code",
   "execution_count": 18,
   "id": "30f85760-b83a-4697-9f34-1b75dd961aa4",
   "metadata": {},
   "outputs": [],
   "source": [
    "pi_copy = pi_copy.reset_index()"
   ]
  },
  {
   "cell_type": "code",
   "execution_count": 21,
   "id": "c11c215a-fa80-4b7d-b8e7-aa002e5dc143",
   "metadata": {},
   "outputs": [],
   "source": [
    "pi_copy = pi_copy.rename(columns = {'index':'place_id','0':'value'})"
   ]
  },
  {
   "cell_type": "code",
   "execution_count": 22,
   "id": "a37bf59b-0608-4a11-8d02-8bed68cfe8c6",
   "metadata": {},
   "outputs": [
    {
     "data": {
      "text/html": [
       "<div>\n",
       "<style scoped>\n",
       "    .dataframe tbody tr th:only-of-type {\n",
       "        vertical-align: middle;\n",
       "    }\n",
       "\n",
       "    .dataframe tbody tr th {\n",
       "        vertical-align: top;\n",
       "    }\n",
       "\n",
       "    .dataframe thead th {\n",
       "        text-align: right;\n",
       "    }\n",
       "</style>\n",
       "<table border=\"1\" class=\"dataframe\">\n",
       "  <thead>\n",
       "    <tr style=\"text-align: right;\">\n",
       "      <th></th>\n",
       "      <th>place_id</th>\n",
       "      <th>0</th>\n",
       "    </tr>\n",
       "  </thead>\n",
       "  <tbody>\n",
       "    <tr>\n",
       "      <th>0</th>\n",
       "      <td>50f5eb24fdc9f065f000804d</td>\n",
       "      <td>1.0</td>\n",
       "    </tr>\n",
       "    <tr>\n",
       "      <th>1</th>\n",
       "      <td>5140c934fdc9f0492600247d</td>\n",
       "      <td>1.0</td>\n",
       "    </tr>\n",
       "    <tr>\n",
       "      <th>2</th>\n",
       "      <td>51414d8bfdc9f04926007602</td>\n",
       "      <td>1.0</td>\n",
       "    </tr>\n",
       "    <tr>\n",
       "      <th>3</th>\n",
       "      <td>513ccf22fdc9f03587001dc3</td>\n",
       "      <td>1.0</td>\n",
       "    </tr>\n",
       "    <tr>\n",
       "      <th>4</th>\n",
       "      <td>513d68eefdc9f0358700454d</td>\n",
       "      <td>1.0</td>\n",
       "    </tr>\n",
       "  </tbody>\n",
       "</table>\n",
       "</div>"
      ],
      "text/plain": [
       "                   place_id    0\n",
       "0  50f5eb24fdc9f065f000804d  1.0\n",
       "1  5140c934fdc9f0492600247d  1.0\n",
       "2  51414d8bfdc9f04926007602  1.0\n",
       "3  513ccf22fdc9f03587001dc3  1.0\n",
       "4  513d68eefdc9f0358700454d  1.0"
      ]
     },
     "execution_count": 22,
     "metadata": {},
     "output_type": "execute_result"
    }
   ],
   "source": [
    "pi_copy.head()"
   ]
  },
  {
   "cell_type": "code",
   "execution_count": 24,
   "id": "eb9f4f26-1bce-4782-9d31-9e707f7ff893",
   "metadata": {},
   "outputs": [],
   "source": [
    "pi_copy.to_csv('Bradley_Terry_sample_100.csv')"
   ]
  },
  {
   "cell_type": "markdown",
   "id": "158101d5-1cb7-44ae-9802-5298410470ac",
   "metadata": {},
   "source": [
    "### machine learning models"
   ]
  },
  {
   "cell_type": "code",
   "execution_count": 27,
   "id": "a01a4ec0-ffbb-482b-b095-5d4884c691fd",
   "metadata": {},
   "outputs": [
    {
     "data": {
      "text/html": [
       "<div>\n",
       "<style scoped>\n",
       "    .dataframe tbody tr th:only-of-type {\n",
       "        vertical-align: middle;\n",
       "    }\n",
       "\n",
       "    .dataframe tbody tr th {\n",
       "        vertical-align: top;\n",
       "    }\n",
       "\n",
       "    .dataframe thead th {\n",
       "        text-align: right;\n",
       "    }\n",
       "</style>\n",
       "<table border=\"1\" class=\"dataframe\">\n",
       "  <thead>\n",
       "    <tr style=\"text-align: right;\">\n",
       "      <th></th>\n",
       "      <th>Unnamed: 0</th>\n",
       "      <th>cluster_centers_rgb</th>\n",
       "      <th>color_ratios_raw</th>\n",
       "      <th>cluster_centers_hsv</th>\n",
       "      <th>matched_colors_raw</th>\n",
       "      <th>matched_colors</th>\n",
       "      <th>color_ratios_matched</th>\n",
       "      <th>filename</th>\n",
       "      <th>h_mean</th>\n",
       "      <th>h_std</th>\n",
       "      <th>s_mean</th>\n",
       "      <th>v_mean</th>\n",
       "      <th>v_max</th>\n",
       "      <th>place_id</th>\n",
       "      <th>simple_score</th>\n",
       "      <th>elo_score</th>\n",
       "    </tr>\n",
       "  </thead>\n",
       "  <tbody>\n",
       "    <tr>\n",
       "      <th>0</th>\n",
       "      <td>0</td>\n",
       "      <td>[[153 160 165]\\n [ 22  80 129]\\n [127 123 111]...</td>\n",
       "      <td>[0.34035833 0.03794167 0.32735833 0.1571     0...</td>\n",
       "      <td>[array([103,  19, 165], dtype=uint8), array([1...</td>\n",
       "      <td>['gray', 'cyan', 'orange', 'gray', 'yellow']</td>\n",
       "      <td>['gray', 'cyan', 'orange', 'yellow']</td>\n",
       "      <td>[np.float64(0.49745833333333334), np.float64(0...</td>\n",
       "      <td>51415142fdc9f04926007f43.jpg</td>\n",
       "      <td>59.777342</td>\n",
       "      <td>42.281507</td>\n",
       "      <td>43.972375</td>\n",
       "      <td>146.078017</td>\n",
       "      <td>255</td>\n",
       "      <td>51415142fdc9f04926007f43</td>\n",
       "      <td>0.000000</td>\n",
       "      <td>968.956512</td>\n",
       "    </tr>\n",
       "    <tr>\n",
       "      <th>1</th>\n",
       "      <td>1</td>\n",
       "      <td>[[ 36  35  26]\\n [171 174 177]\\n [ 93  96  66]...</td>\n",
       "      <td>[0.27780833 0.1731     0.21171667 0.1403     0...</td>\n",
       "      <td>[array([27, 71, 36], dtype=uint8), array([105,...</td>\n",
       "      <td>['yellow', 'gray', 'yellow', 'orange', 'yellow']</td>\n",
       "      <td>['yellow', 'gray', 'orange']</td>\n",
       "      <td>[np.float64(0.6866), np.float64(0.1731), np.fl...</td>\n",
       "      <td>50f5ed9afdc9f065f0008e32.jpg</td>\n",
       "      <td>44.728267</td>\n",
       "      <td>37.648842</td>\n",
       "      <td>62.034000</td>\n",
       "      <td>94.703683</td>\n",
       "      <td>255</td>\n",
       "      <td>50f5ed9afdc9f065f0008e32</td>\n",
       "      <td>0.500000</td>\n",
       "      <td>996.751165</td>\n",
       "    </tr>\n",
       "    <tr>\n",
       "      <th>2</th>\n",
       "      <td>2</td>\n",
       "      <td>[[153 148 121]\\n [ 53  54  32]\\n [214 215 209]...</td>\n",
       "      <td>[0.202775   0.20121667 0.1415     0.24424167 0...</td>\n",
       "      <td>[array([ 25,  53, 153], dtype=uint8), array([ ...</td>\n",
       "      <td>['yellow', 'yellow', 'white', 'cyan', 'yellow']</td>\n",
       "      <td>['yellow', 'white', 'cyan']</td>\n",
       "      <td>[np.float64(0.6142583333333334), np.float64(0....</td>\n",
       "      <td>513e6050fdc9f0358700b395.jpg</td>\n",
       "      <td>52.645892</td>\n",
       "      <td>38.345215</td>\n",
       "      <td>70.778133</td>\n",
       "      <td>143.088600</td>\n",
       "      <td>255</td>\n",
       "      <td>513e6050fdc9f0358700b395</td>\n",
       "      <td>0.692308</td>\n",
       "      <td>1081.661041</td>\n",
       "    </tr>\n",
       "    <tr>\n",
       "      <th>3</th>\n",
       "      <td>3</td>\n",
       "      <td>[[ 68  72  69]\\n [204 205 204]\\n [157 159 158]...</td>\n",
       "      <td>[0.24099167 0.27510833 0.28238333 0.09298333 0...</td>\n",
       "      <td>[array([68, 14, 72], dtype=uint8), array([ 60,...</td>\n",
       "      <td>['gray', 'white', 'gray', 'gray', 'yellow']</td>\n",
       "      <td>['gray', 'white', 'yellow']</td>\n",
       "      <td>[np.float64(0.6163583333333332), np.float64(0....</td>\n",
       "      <td>50f5eb28fdc9f065f0008096.jpg</td>\n",
       "      <td>59.708800</td>\n",
       "      <td>44.573643</td>\n",
       "      <td>29.268692</td>\n",
       "      <td>136.006450</td>\n",
       "      <td>255</td>\n",
       "      <td>50f5eb28fdc9f065f0008096</td>\n",
       "      <td>0.000000</td>\n",
       "      <td>984.000000</td>\n",
       "    </tr>\n",
       "    <tr>\n",
       "      <th>4</th>\n",
       "      <td>4</td>\n",
       "      <td>[[ 52  54  33]\\n [143 140 133]\\n [203 205 204]...</td>\n",
       "      <td>[0.23179167 0.2211     0.0928     0.12643333 0...</td>\n",
       "      <td>[array([33, 99, 54], dtype=uint8), array([ 21,...</td>\n",
       "      <td>['yellow', 'gray', 'white', 'gray', 'gray']</td>\n",
       "      <td>['yellow', 'gray', 'white']</td>\n",
       "      <td>[np.float64(0.23179166666666667), np.float64(0...</td>\n",
       "      <td>50f5ec32fdc9f065f00087a7.jpg</td>\n",
       "      <td>46.192183</td>\n",
       "      <td>39.487293</td>\n",
       "      <td>49.982667</td>\n",
       "      <td>126.712392</td>\n",
       "      <td>255</td>\n",
       "      <td>50f5ec32fdc9f065f00087a7</td>\n",
       "      <td>0.250000</td>\n",
       "      <td>925.638091</td>\n",
       "    </tr>\n",
       "  </tbody>\n",
       "</table>\n",
       "</div>"
      ],
      "text/plain": [
       "   Unnamed: 0                                cluster_centers_rgb  \\\n",
       "0           0  [[153 160 165]\\n [ 22  80 129]\\n [127 123 111]...   \n",
       "1           1  [[ 36  35  26]\\n [171 174 177]\\n [ 93  96  66]...   \n",
       "2           2  [[153 148 121]\\n [ 53  54  32]\\n [214 215 209]...   \n",
       "3           3  [[ 68  72  69]\\n [204 205 204]\\n [157 159 158]...   \n",
       "4           4  [[ 52  54  33]\\n [143 140 133]\\n [203 205 204]...   \n",
       "\n",
       "                                    color_ratios_raw  \\\n",
       "0  [0.34035833 0.03794167 0.32735833 0.1571     0...   \n",
       "1  [0.27780833 0.1731     0.21171667 0.1403     0...   \n",
       "2  [0.202775   0.20121667 0.1415     0.24424167 0...   \n",
       "3  [0.24099167 0.27510833 0.28238333 0.09298333 0...   \n",
       "4  [0.23179167 0.2211     0.0928     0.12643333 0...   \n",
       "\n",
       "                                 cluster_centers_hsv  \\\n",
       "0  [array([103,  19, 165], dtype=uint8), array([1...   \n",
       "1  [array([27, 71, 36], dtype=uint8), array([105,...   \n",
       "2  [array([ 25,  53, 153], dtype=uint8), array([ ...   \n",
       "3  [array([68, 14, 72], dtype=uint8), array([ 60,...   \n",
       "4  [array([33, 99, 54], dtype=uint8), array([ 21,...   \n",
       "\n",
       "                                 matched_colors_raw  \\\n",
       "0      ['gray', 'cyan', 'orange', 'gray', 'yellow']   \n",
       "1  ['yellow', 'gray', 'yellow', 'orange', 'yellow']   \n",
       "2   ['yellow', 'yellow', 'white', 'cyan', 'yellow']   \n",
       "3       ['gray', 'white', 'gray', 'gray', 'yellow']   \n",
       "4       ['yellow', 'gray', 'white', 'gray', 'gray']   \n",
       "\n",
       "                         matched_colors  \\\n",
       "0  ['gray', 'cyan', 'orange', 'yellow']   \n",
       "1          ['yellow', 'gray', 'orange']   \n",
       "2           ['yellow', 'white', 'cyan']   \n",
       "3           ['gray', 'white', 'yellow']   \n",
       "4           ['yellow', 'gray', 'white']   \n",
       "\n",
       "                                color_ratios_matched  \\\n",
       "0  [np.float64(0.49745833333333334), np.float64(0...   \n",
       "1  [np.float64(0.6866), np.float64(0.1731), np.fl...   \n",
       "2  [np.float64(0.6142583333333334), np.float64(0....   \n",
       "3  [np.float64(0.6163583333333332), np.float64(0....   \n",
       "4  [np.float64(0.23179166666666667), np.float64(0...   \n",
       "\n",
       "                       filename     h_mean      h_std     s_mean      v_mean  \\\n",
       "0  51415142fdc9f04926007f43.jpg  59.777342  42.281507  43.972375  146.078017   \n",
       "1  50f5ed9afdc9f065f0008e32.jpg  44.728267  37.648842  62.034000   94.703683   \n",
       "2  513e6050fdc9f0358700b395.jpg  52.645892  38.345215  70.778133  143.088600   \n",
       "3  50f5eb28fdc9f065f0008096.jpg  59.708800  44.573643  29.268692  136.006450   \n",
       "4  50f5ec32fdc9f065f00087a7.jpg  46.192183  39.487293  49.982667  126.712392   \n",
       "\n",
       "   v_max                  place_id  simple_score    elo_score  \n",
       "0    255  51415142fdc9f04926007f43      0.000000   968.956512  \n",
       "1    255  50f5ed9afdc9f065f0008e32      0.500000   996.751165  \n",
       "2    255  513e6050fdc9f0358700b395      0.692308  1081.661041  \n",
       "3    255  50f5eb28fdc9f065f0008096      0.000000   984.000000  \n",
       "4    255  50f5ec32fdc9f065f00087a7      0.250000   925.638091  "
      ]
     },
     "execution_count": 27,
     "metadata": {},
     "output_type": "execute_result"
    }
   ],
   "source": [
    "image_data = pd.read_csv('imgs_data.csv')\n",
    "image_data.head()"
   ]
  },
  {
   "cell_type": "markdown",
   "id": "edc27bf9-3c7d-4c99-be18-e0bb64e412d3",
   "metadata": {},
   "source": [
    "#### k fold cross validate score"
   ]
  },
  {
   "cell_type": "code",
   "execution_count": 42,
   "id": "99b26721-01c2-4532-a5fe-781ff1e8c313",
   "metadata": {},
   "outputs": [],
   "source": [
    "def KFoldValidation(model,X,y,K=5):\n",
    "    # 设置 5 折交叉验证\n",
    "    kf = KFold(n_splits = K,shuffle = True,random_state = 42)\n",
    "    # shuffle = True 意味着在划分数据集之前会对传入的数据集进行打乱操作，以实现随机划分。\n",
    "    # 如果不设置此参数或者设置为 False，则不会对传入的训练集进行打乱，而是按顺序进行划分，每次运行代码得到的划分结果都一样\n",
    "\n",
    "    # 使用 RMSE 作为评估指标\n",
    "    rmse_scorer = make_scorer(mean_squared_error,greater_is_better = False)\n",
    "    # cross_val_score 函数默认认为得分越高越好，但 RMSE 是越低越好。因此，在使用 make_scorer 函数创建评分器时，需要将 greater_is_better 参数设置为 False\n",
    "\n",
    "    # 交叉验证评分\n",
    "    scores = cross_val_score(model,X,y,cv=kf,scoring = rmse_scorer)\n",
    "    # 这是 scikit-learn 的规范（它假设“越大越好”，所以对“误差越小越好”的指标要取负数）。\n",
    "    # cv：交叉验证的划分策略，可以是整数（表示默认的 K 折交叉验证），也可以是 KFold 等交叉验证对象，如上述代码中的 kf。\n",
    "    # scoring：评分函数，可以是字符串（如 'neg_mean_squared_error'）或可调用的评分器对象，如上述代码中的 rmse_scorer。\n",
    "\n",
    "    print(\"每一折的 RMSE:\", np.sqrt(-scores)) # 这是 scikit-learn 的规范（它假设“越大越好”，所以对“误差越小越好”的指标要取负数）。\n",
    "    print(\"平均 RMSE:\", np.mean(np.sqrt(-scores))) # 这是 scikit-learn 的规范（它假设“越大越好”，所以对“误差越小越好”的指标要取负数）。"
   ]
  },
  {
   "cell_type": "markdown",
   "id": "20ca5acb-5838-4cd4-9992-216fed3b51fd",
   "metadata": {},
   "source": [
    "每一折RSE大约在0.0567~0.0573之间\n",
    "\n",
    "平均RSE约等于0.0570"
   ]
  },
  {
   "cell_type": "markdown",
   "id": "1cd1c3a7-ef0a-4be9-be2a-3c6db781e968",
   "metadata": {},
   "source": [
    "#### Linear Regression"
   ]
  },
  {
   "cell_type": "code",
   "execution_count": 32,
   "id": "e1cb5047-3c6c-41e9-9730-8027d0d07c74",
   "metadata": {},
   "outputs": [
    {
     "name": "stdout",
     "output_type": "stream",
     "text": [
      "Intercept : 0.2929360635122771\n",
      "Coefficient : 0.0016599270323480154\n"
     ]
    }
   ],
   "source": [
    "X = image_data[['h_mean']]\n",
    "y = image_data['simple_score']\n",
    "\n",
    "X_train,X_test,y_train,y_test = train_test_split(X,y,test_size = 0.2,random_state = 42)\n",
    "\n",
    "model = LinearRegression()\n",
    "model.fit(X_train,y_train)\n",
    "\n",
    "print(f'Intercept : {model.intercept_}')\n",
    "print(f'Coefficient : {model.coef_[0]}')"
   ]
  },
  {
   "cell_type": "markdown",
   "id": "23284622-d920-43d5-804b-59f331f22bfa",
   "metadata": {},
   "source": [
    "model.coef_输出的时候是数组"
   ]
  },
  {
   "cell_type": "code",
   "execution_count": 29,
   "id": "c4202244-a1bd-495d-90b3-090d41bd1ca6",
   "metadata": {},
   "outputs": [
    {
     "data": {
      "text/plain": [
       "array([0.00165993])"
      ]
     },
     "execution_count": 29,
     "metadata": {},
     "output_type": "execute_result"
    }
   ],
   "source": [
    "model.coef_"
   ]
  },
  {
   "cell_type": "code",
   "execution_count": 34,
   "id": "c5051bf3-e473-4512-ad90-3612936b2130",
   "metadata": {},
   "outputs": [
    {
     "name": "stdout",
     "output_type": "stream",
     "text": [
      "absolute errors:67543    0.078238\n",
      "81940    0.111575\n",
      "36605    0.392163\n",
      "59452    0.042249\n",
      "24212    0.388818\n",
      "           ...   \n",
      "69251    0.332346\n",
      "28898    0.011728\n",
      "43396    0.403345\n",
      "31659    0.142436\n",
      "86380    0.312226\n",
      "Name: simple_score, Length: 22138, dtype: float64\n",
      "squared errors:67543    0.006121\n",
      "81940    0.012449\n",
      "36605    0.153792\n",
      "59452    0.001785\n",
      "24212    0.151180\n",
      "           ...   \n",
      "69251    0.110454\n",
      "28898    0.000138\n",
      "43396    0.162687\n",
      "31659    0.020288\n",
      "86380    0.097485\n",
      "Name: simple_score, Length: 22138, dtype: float64\n",
      "squared errors:0.1974824475899449\n",
      "mean squared error: 0.0571295451871804\n",
      "RMSE: 0.2390178762920891\n",
      "R²: 0.006803589630551055\n"
     ]
    }
   ],
   "source": [
    "from sklearn.metrics import r2_score\n",
    "from sklearn.metrics import mean_squared_error\n",
    "\n",
    "y_pred = model.predict(X_test)\n",
    "\n",
    "absolute_errors = np.abs(y_test - y_pred)\n",
    "print(f'absolute errors:{absolute_errors}')\n",
    "\n",
    "squared_errors = (y_test - y_pred) ** 2\n",
    "print(f'squared errors:{squared_errors}')\n",
    "\n",
    "mae = np.mean(absolute_errors)\n",
    "print(f'squared errors:{mae}')\n",
    "\n",
    "mse = mean_squared_error(y_test,y_pred)\n",
    "print(\"mean squared error:\", mse)\n",
    "\n",
    "rmse = np.sqrt(mse)\n",
    "print(\"RMSE:\", rmse)\n",
    "\n",
    "r2 = r2_score(y_test,y_pred)\n",
    "print(\"R²:\", r2)"
   ]
  },
  {
   "cell_type": "code",
   "execution_count": 43,
   "id": "0df15d30-d725-4c01-888f-6e67b5dd7809",
   "metadata": {},
   "outputs": [
    {
     "data": {
      "image/png": "[encoded data removed]",
      "text/plain": [
       "<Figure size 640x480 with 1 Axes>"
      ]
     },
     "metadata": {},
     "output_type": "display_data"
    }
   ],
   "source": [
    "import matplotlib.pyplot as plt\n",
    "plt.scatter(X_test, y_test, color = 'salmon', alpha = 0.4, label='y')\n",
    "plt.plot(X_test, y_pred, color='red', label='regression')\n",
    "plt.xlabel(\"HMean\")\n",
    "plt.ylabel(\"SimpleScore\")\n",
    "plt.legend()\n",
    "plt.show()"
   ]
  },
  {
   "cell_type": "code",
   "execution_count": null,
   "id": "b15a91be-1f8c-4a6e-870f-33b1554c9c0b",
   "metadata": {},
   "outputs": [],
   "source": [
    "X = image_data[['h_mean','h_std','s_mean',\t'v_mean','v_max']]\n",
    "y = image_data['simple_score']"
   ]
  },
  {
   "cell_type": "code",
   "execution_count": 56,
   "id": "a715acf0-d74c-4817-a11f-8c17ac90aced",
   "metadata": {},
   "outputs": [
    {
     "name": "stdout",
     "output_type": "stream",
     "text": [
      "每一折的 RMSE: [0.23701533 0.236418   0.23663794 0.23571922 0.23648946]\n",
      "平均 RMSE: 0.23645599114702004\n"
     ]
    }
   ],
   "source": [
    "model = LinearRegression()\n",
    "KFoldValidation(model = model,X = X,y = y,K = 5)"
   ]
  },
  {
   "cell_type": "markdown",
   "id": "712465b9-c75e-4924-a5d6-f5cdbf539230",
   "metadata": {},
   "source": [
    "#### Random Forest Regressor"
   ]
  },
  {
   "cell_type": "code",
   "execution_count": 59,
   "id": "39f004eb-8af9-4eab-88d3-dd728a22a441",
   "metadata": {},
   "outputs": [
    {
     "name": "stdout",
     "output_type": "stream",
     "text": [
      "RMSE: 0.2375891453007337\n",
      "R²: 0.018641778819422417\n"
     ]
    }
   ],
   "source": [
    "from sklearn.ensemble import RandomForestRegressor\n",
    "\n",
    "X = image_data[['h_mean','h_std','s_mean',\t'v_mean','v_max']]\n",
    "y = image_data['simple_score']\n",
    "\n",
    "X_train, X_test, y_train, y_test = train_test_split(X, y, test_size=0.2, random_state=42)\n",
    "\n",
    "# 定义随机森林模型\n",
    "model = RandomForestRegressor(\n",
    "    n_estimators=100,       # 决策树数量\n",
    "    max_depth=20,           # 最大树深\n",
    "    min_samples_split=5,    # 节点最小分裂样本数\n",
    "    random_state=42         # 可复现性\n",
    ")\n",
    "model.fit(X_train, y_train)\n",
    "# 模型预测\n",
    "y_pred = model.predict(X_test)\n",
    "\n",
    "# 模型评估\n",
    "rmse = np.sqrt(mean_squared_error(y_test, y_pred))\n",
    "r2 = r2_score(y_test, y_pred)\n",
    "\n",
    "print(\"RMSE:\", rmse)\n",
    "print(\"R²:\", r2)"
   ]
  },
  {
   "cell_type": "code",
   "execution_count": 53,
   "id": "682f9eaa-8437-4aea-88f2-9fe0588b3e96",
   "metadata": {},
   "outputs": [
    {
     "name": "stdout",
     "output_type": "stream",
     "text": [
      "每一折的 RMSE: [0.23778902 0.2367673  0.23817772 0.23678374 0.23736153]\n",
      "平均 RMSE: 0.23737586325200502\n"
     ]
    }
   ],
   "source": [
    "model = RandomForestRegressor(\n",
    "    n_estimators=100,       # 决策树数量\n",
    "    max_depth=20,           # 最大树深\n",
    "    min_samples_split=5,    # 节点最小分裂样本数\n",
    "    random_state=42         # 可复现性\n",
    ")\n",
    "KFoldValidation(model = model,X = X,y = y,K = 5)"
   ]
  },
  {
   "cell_type": "markdown",
   "id": "fb2be688-f2c0-4d36-b799-2ab65b03e654",
   "metadata": {},
   "source": [
    "#### XGBoost"
   ]
  },
  {
   "cell_type": "code",
   "execution_count": 57,
   "id": "2145fadd-1fbd-4a02-a2a5-840a74ddd00d",
   "metadata": {},
   "outputs": [
    {
     "name": "stdout",
     "output_type": "stream",
     "text": [
      "XGBoost 回归模型评估结果：\n",
      "RMSE: 0.2359\n",
      "R²: 0.0322\n"
     ]
    }
   ],
   "source": [
    "from xgboost import XGBRegressor\n",
    "\n",
    "X_train, X_test, y_train, y_test = train_test_split(X, y, test_size=0.2, random_state=42)\n",
    "\n",
    "#  定义 XGBoost 模型\n",
    "model = XGBRegressor(\n",
    "    n_estimators=100,        # 弱学习器数量\n",
    "    max_depth=6,             # 树最大深度\n",
    "    learning_rate=0.1,       # 学习率\n",
    "    subsample=0.8,           # 子采样比率\n",
    "    colsample_bytree=0.8,    # 每棵树用的特征比例\n",
    "    random_state=42,\n",
    "    objective=\"reg:squarederror\",  # 回归任务的目标函数（必须！）\n",
    "    verbosity=0              # 0表示不输出训练过程日志\n",
    ")\n",
    "\n",
    "model.fit(X_train, y_train)\n",
    "y_pred = model.predict(X_test)\n",
    "rmse = np.sqrt(mean_squared_error(y_test, y_pred))\n",
    "r2 = r2_score(y_test, y_pred)\n",
    "\n",
    "print(\"XGBoost 回归模型评估结果：\")\n",
    "print(f\"RMSE: {rmse:.4f}\")\n",
    "print(f\"R²: {r2:.4f}\")"
   ]
  },
  {
   "cell_type": "code",
   "execution_count": 58,
   "id": "ae6566f8-4d2c-44fa-96d9-661c820ec86e",
   "metadata": {},
   "outputs": [
    {
     "name": "stdout",
     "output_type": "stream",
     "text": [
      "每一折的 RMSE: [0.23603654 0.23525753 0.23584461 0.23477909 0.2353941 ]\n",
      "平均 RMSE: 0.2354623747593974\n"
     ]
    }
   ],
   "source": [
    "model = XGBRegressor(\n",
    "    n_estimators=100,        # 弱学习器数量\n",
    "    max_depth=6,             # 树最大深度\n",
    "    learning_rate=0.1,       # 学习率\n",
    "    subsample=0.8,           # 子采样比率\n",
    "    colsample_bytree=0.8,    # 每棵树用的特征比例\n",
    "    random_state=42,\n",
    "    objective=\"reg:squarederror\",  # 回归任务的目标函数（必须！）\n",
    "    verbosity=0              # 0表示不输出训练过程日志\n",
    ")\n",
    "KFoldValidation(model = model,X = X,y = y,K = 5)"
   ]
  },
  {
   "cell_type": "code",
   "execution_count": null,
   "id": "3dfd87c1-064f-474f-87a8-8fbf12985e26",
   "metadata": {},
   "outputs": [],
   "source": []
  }
 ],
 "metadata": {
  "kernelspec": {
   "display_name": "Python [conda env:base] *",
   "language": "python",
   "name": "conda-base-py"
  },
  "language_info": {
   "codemirror_mode": {
    "name": "ipython",
    "version": 3
   },
   "file_extension": ".py",
   "mimetype": "text/x-python",
   "name": "python",
   "nbconvert_exporter": "python",
   "pygments_lexer": "ipython3",
   "version": "3.13.5"
  }
 },
 "nbformat": 4,
 "nbformat_minor": 5
}
