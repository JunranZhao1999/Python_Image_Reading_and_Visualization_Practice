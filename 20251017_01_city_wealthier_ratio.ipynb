{
 "cells": [
  {
   "cell_type": "code",
   "execution_count": 1,
   "id": "08efab08-612f-443a-9c25-7655cfea462b",
   "metadata": {},
   "outputs": [],
   "source": [
    "import pandas as pd"
   ]
  },
  {
   "cell_type": "code",
   "execution_count": 2,
   "id": "036a5fe1-4309-4f35-98f7-2ebc4a789b5e",
   "metadata": {},
   "outputs": [],
   "source": [
    "data = pd.read_csv('votes_clean.csv')"
   ]
  },
  {
   "cell_type": "code",
   "execution_count": 3,
   "id": "946f9d28-7c88-4212-be98-4ed763e7ffbd",
   "metadata": {},
   "outputs": [
    {
     "data": {
      "text/html": [
       "<div>\n",
       "<style scoped>\n",
       "    .dataframe tbody tr th:only-of-type {\n",
       "        vertical-align: middle;\n",
       "    }\n",
       "\n",
       "    .dataframe tbody tr th {\n",
       "        vertical-align: top;\n",
       "    }\n",
       "\n",
       "    .dataframe thead th {\n",
       "        text-align: right;\n",
       "    }\n",
       "</style>\n",
       "<table border=\"1\" class=\"dataframe\">\n",
       "  <thead>\n",
       "    <tr style=\"text-align: right;\">\n",
       "      <th></th>\n",
       "      <th>Unnamed: 0</th>\n",
       "      <th>place_id_left</th>\n",
       "      <th>place_id_right</th>\n",
       "      <th>study_id</th>\n",
       "      <th>left</th>\n",
       "      <th>right</th>\n",
       "      <th>voter_uniqueid</th>\n",
       "      <th>choice</th>\n",
       "      <th>study_question</th>\n",
       "      <th>place_name_right</th>\n",
       "      <th>place_name_left</th>\n",
       "      <th>day</th>\n",
       "      <th>time</th>\n",
       "      <th>long_right</th>\n",
       "      <th>lat_right</th>\n",
       "      <th>long_left</th>\n",
       "      <th>lat_left</th>\n",
       "    </tr>\n",
       "  </thead>\n",
       "  <tbody>\n",
       "    <tr>\n",
       "      <th>0</th>\n",
       "      <td>1</td>\n",
       "      <td>50e5e9c1d7c3df413b000000</td>\n",
       "      <td>50f38e44fdc9f065f0000855</td>\n",
       "      <td>50f62cb7a84ea7c5fdd2e458</td>\n",
       "      <td>513d573bfdc9f03587003120</td>\n",
       "      <td>50f5eb3ffdc9f065f00080f7</td>\n",
       "      <td>7681bc0ade864091a957524067c9254f</td>\n",
       "      <td>left</td>\n",
       "      <td>wealthier</td>\n",
       "      <td>Rio De Janeiro</td>\n",
       "      <td>Amsterdam</td>\n",
       "      <td>2014-04-20</td>\n",
       "      <td>21:17:31</td>\n",
       "      <td>-22.779996</td>\n",
       "      <td>-43.403705</td>\n",
       "      <td>52.382016</td>\n",
       "      <td>4.861142</td>\n",
       "    </tr>\n",
       "    <tr>\n",
       "      <th>1</th>\n",
       "      <td>2</td>\n",
       "      <td>50e5e9c1d7c3df413b000000</td>\n",
       "      <td>50f39092fdc9f065f000097d</td>\n",
       "      <td>5217c351ad93a7d3e7b07a64</td>\n",
       "      <td>513d57f9fdc9f0358700326b</td>\n",
       "      <td>50f5e700fdc9f065f0006ef0</td>\n",
       "      <td>e5939a746d544ce09c04d6453a5a1a3a</td>\n",
       "      <td>left</td>\n",
       "      <td>more beautiful</td>\n",
       "      <td>Sao Paulo</td>\n",
       "      <td>Amsterdam</td>\n",
       "      <td>2013-09-01</td>\n",
       "      <td>03:22:19</td>\n",
       "      <td>-23.638028</td>\n",
       "      <td>-46.601966</td>\n",
       "      <td>52.325979</td>\n",
       "      <td>4.880425</td>\n",
       "    </tr>\n",
       "    <tr>\n",
       "      <th>2</th>\n",
       "      <td>3</td>\n",
       "      <td>50e5e9c1d7c3df413b000000</td>\n",
       "      <td>50e734e9d7c3df413b000ebf</td>\n",
       "      <td>50f62c41a84ea7c5fdd2e454</td>\n",
       "      <td>513d57e5fdc9f03587003244</td>\n",
       "      <td>513d7b54fdc9f03587006b19</td>\n",
       "      <td>32c3fe6369814f398dee39f3a68daa4f</td>\n",
       "      <td>right</td>\n",
       "      <td>livelier</td>\n",
       "      <td>Atlanta</td>\n",
       "      <td>Amsterdam</td>\n",
       "      <td>2017-10-02</td>\n",
       "      <td>01:40:35</td>\n",
       "      <td>33.895489</td>\n",
       "      <td>-84.282779</td>\n",
       "      <td>52.358512</td>\n",
       "      <td>4.943212</td>\n",
       "    </tr>\n",
       "    <tr>\n",
       "      <th>3</th>\n",
       "      <td>4</td>\n",
       "      <td>50e5e9c1d7c3df413b000000</td>\n",
       "      <td>50f39436fdc9f065f0000acc</td>\n",
       "      <td>50f62ccfa84ea7c5fdd2e459</td>\n",
       "      <td>513d57bdfdc9f035870031fd</td>\n",
       "      <td>50f562e3fdc9f065f0005b45</td>\n",
       "      <td>90dc7520a28f4c58a090d14ec58cb181</td>\n",
       "      <td>equal</td>\n",
       "      <td>more depressing</td>\n",
       "      <td>Singapore</td>\n",
       "      <td>Amsterdam</td>\n",
       "      <td>2013-12-29</td>\n",
       "      <td>16:34:34</td>\n",
       "      <td>1.343338</td>\n",
       "      <td>103.961166</td>\n",
       "      <td>52.332149</td>\n",
       "      <td>4.861824</td>\n",
       "    </tr>\n",
       "    <tr>\n",
       "      <th>4</th>\n",
       "      <td>5</td>\n",
       "      <td>50e5e9c1d7c3df413b000000</td>\n",
       "      <td>50f38aaefdc9f065f0000562</td>\n",
       "      <td>50f62c41a84ea7c5fdd2e454</td>\n",
       "      <td>513d56fefdc9f035870030ad</td>\n",
       "      <td>50f61675beb2fed9100008bb</td>\n",
       "      <td>b06240448e62439194a30171f2d84091</td>\n",
       "      <td>right</td>\n",
       "      <td>livelier</td>\n",
       "      <td>Philadelphia</td>\n",
       "      <td>Amsterdam</td>\n",
       "      <td>2016-05-03</td>\n",
       "      <td>13:20:42</td>\n",
       "      <td>40.022366</td>\n",
       "      <td>-75.143560</td>\n",
       "      <td>52.308278</td>\n",
       "      <td>4.977296</td>\n",
       "    </tr>\n",
       "  </tbody>\n",
       "</table>\n",
       "</div>"
      ],
      "text/plain": [
       "   Unnamed: 0             place_id_left            place_id_right  \\\n",
       "0           1  50e5e9c1d7c3df413b000000  50f38e44fdc9f065f0000855   \n",
       "1           2  50e5e9c1d7c3df413b000000  50f39092fdc9f065f000097d   \n",
       "2           3  50e5e9c1d7c3df413b000000  50e734e9d7c3df413b000ebf   \n",
       "3           4  50e5e9c1d7c3df413b000000  50f39436fdc9f065f0000acc   \n",
       "4           5  50e5e9c1d7c3df413b000000  50f38aaefdc9f065f0000562   \n",
       "\n",
       "                   study_id                      left  \\\n",
       "0  50f62cb7a84ea7c5fdd2e458  513d573bfdc9f03587003120   \n",
       "1  5217c351ad93a7d3e7b07a64  513d57f9fdc9f0358700326b   \n",
       "2  50f62c41a84ea7c5fdd2e454  513d57e5fdc9f03587003244   \n",
       "3  50f62ccfa84ea7c5fdd2e459  513d57bdfdc9f035870031fd   \n",
       "4  50f62c41a84ea7c5fdd2e454  513d56fefdc9f035870030ad   \n",
       "\n",
       "                      right                    voter_uniqueid choice  \\\n",
       "0  50f5eb3ffdc9f065f00080f7  7681bc0ade864091a957524067c9254f   left   \n",
       "1  50f5e700fdc9f065f0006ef0  e5939a746d544ce09c04d6453a5a1a3a   left   \n",
       "2  513d7b54fdc9f03587006b19  32c3fe6369814f398dee39f3a68daa4f  right   \n",
       "3  50f562e3fdc9f065f0005b45  90dc7520a28f4c58a090d14ec58cb181  equal   \n",
       "4  50f61675beb2fed9100008bb  b06240448e62439194a30171f2d84091  right   \n",
       "\n",
       "    study_question place_name_right place_name_left         day      time  \\\n",
       "0        wealthier   Rio De Janeiro       Amsterdam  2014-04-20  21:17:31   \n",
       "1   more beautiful        Sao Paulo       Amsterdam  2013-09-01  03:22:19   \n",
       "2         livelier          Atlanta       Amsterdam  2017-10-02  01:40:35   \n",
       "3  more depressing        Singapore       Amsterdam  2013-12-29  16:34:34   \n",
       "4         livelier     Philadelphia       Amsterdam  2016-05-03  13:20:42   \n",
       "\n",
       "   long_right   lat_right  long_left  lat_left  \n",
       "0  -22.779996  -43.403705  52.382016  4.861142  \n",
       "1  -23.638028  -46.601966  52.325979  4.880425  \n",
       "2   33.895489  -84.282779  52.358512  4.943212  \n",
       "3    1.343338  103.961166  52.332149  4.861824  \n",
       "4   40.022366  -75.143560  52.308278  4.977296  "
      ]
     },
     "execution_count": 3,
     "metadata": {},
     "output_type": "execute_result"
    }
   ],
   "source": [
    "data.head()"
   ]
  },
  {
   "cell_type": "code",
   "execution_count": 4,
   "id": "b47a8c0f-2fb8-44f3-8f63-11259ba6dcb2",
   "metadata": {},
   "outputs": [
    {
     "data": {
      "text/plain": [
       "1565723"
      ]
     },
     "execution_count": 4,
     "metadata": {},
     "output_type": "execute_result"
    }
   ],
   "source": [
    "len(data)"
   ]
  },
  {
   "cell_type": "code",
   "execution_count": 5,
   "id": "5a60d8e0-26f0-41a1-b6aa-25633f0c2f26",
   "metadata": {},
   "outputs": [
    {
     "data": {
      "text/plain": [
       "Index(['Unnamed: 0', 'place_id_left', 'place_id_right', 'study_id', 'left',\n",
       "       'right', 'voter_uniqueid', 'choice', 'study_question',\n",
       "       'place_name_right', 'place_name_left', 'day', 'time', 'long_right',\n",
       "       'lat_right', 'long_left', 'lat_left'],\n",
       "      dtype='object')"
      ]
     },
     "execution_count": 5,
     "metadata": {},
     "output_type": "execute_result"
    }
   ],
   "source": [
    "data.columns"
   ]
  },
  {
   "cell_type": "code",
   "execution_count": 6,
   "id": "d107e5c1-6e34-4255-96bb-1eb40a657074",
   "metadata": {},
   "outputs": [
    {
     "data": {
      "text/plain": [
       "array(['wealthier', 'more beautiful', 'livelier', 'more depressing',\n",
       "       'safer', 'more boring', nan], dtype=object)"
      ]
     },
     "execution_count": 6,
     "metadata": {},
     "output_type": "execute_result"
    }
   ],
   "source": [
    "#返回一个列所有的取值\n",
    "data['study_question'].unique()"
   ]
  },
  {
   "cell_type": "code",
   "execution_count": 7,
   "id": "006187af-8552-45bb-b9b8-f91f26744e30",
   "metadata": {},
   "outputs": [
    {
     "data": {
      "text/plain": [
       "study_question\n",
       "safer              509961\n",
       "livelier           366802\n",
       "more beautiful     220604\n",
       "wealthier          174758\n",
       "more depressing    149355\n",
       "more boring        144060\n",
       "Name: count, dtype: int64"
      ]
     },
     "execution_count": 7,
     "metadata": {},
     "output_type": "execute_result"
    }
   ],
   "source": [
    "data['study_question'].value_counts()"
   ]
  },
  {
   "cell_type": "code",
   "execution_count": 8,
   "id": "803e63da-40a7-4a95-9083-39dbdfb049c0",
   "metadata": {},
   "outputs": [
    {
     "data": {
      "text/plain": [
       "array(['Rio De Janeiro', 'Sao Paulo', 'Atlanta', 'Singapore',\n",
       "       'Philadelphia', 'New York', 'Moscow', 'Berlin', 'Amsterdam',\n",
       "       'Cape Town', 'Dublin', 'Tokyo', 'Bucharest', 'Melbourne', 'Warsaw',\n",
       "       'Taipei', 'Johannesburg', 'Santiago', 'Toronto', 'Mexico City',\n",
       "       'Milan', 'Portland', 'Los Angeles', 'Bangkok', 'London', 'Madrid',\n",
       "       'Washington DC', 'Boston', 'Houston', 'Paris', 'Belo Horizonte',\n",
       "       'Rome', 'Kyoto', 'Chicago', 'Minneapolis', 'Montreal',\n",
       "       'San Francisco', 'Lisbon', 'Guadalajara', 'Seattle', 'Gaborone',\n",
       "       'Barcelona', 'Zagreb', 'Copenhagen', 'Sydney', 'Valparaiso',\n",
       "       'Denver', 'Munich', 'Stockholm', 'Tel Aviv', 'Prague', 'Hong Kong',\n",
       "       'Glasgow', 'Bratislava', 'Kiev', 'Helsinki'], dtype=object)"
      ]
     },
     "execution_count": 8,
     "metadata": {},
     "output_type": "execute_result"
    }
   ],
   "source": [
    "data['place_name_right'].unique()"
   ]
  },
  {
   "cell_type": "code",
   "execution_count": 9,
   "id": "a9e5bc4c-d28e-4808-b3dd-470ad9406367",
   "metadata": {
    "scrolled": true
   },
   "outputs": [
    {
     "data": {
      "text/plain": [
       "place_name_right\n",
       "Atlanta           57140\n",
       "Berlin            55583\n",
       "Tokyo             53514\n",
       "Rio De Janeiro    52585\n",
       "Santiago          48282\n",
       "New York          47946\n",
       "Sydney            47385\n",
       "Toronto           46224\n",
       "Chicago           45664\n",
       "Houston           42901\n",
       "Sao Paulo         42114\n",
       "Warsaw            41702\n",
       "Moscow            40424\n",
       "Philadelphia      39232\n",
       "Melbourne         38430\n",
       "London            38242\n",
       "Singapore         37170\n",
       "Montreal          36619\n",
       "Cape Town         35590\n",
       "Paris             35086\n",
       "Denver            33774\n",
       "Munich            31478\n",
       "Rome              30664\n",
       "Madrid            30333\n",
       "Bucharest         30080\n",
       "Mexico City       29499\n",
       "Belo Horizonte    27882\n",
       "Portland          26835\n",
       "Lisbon            26462\n",
       "Johannesburg      25871\n",
       "Milan             24260\n",
       "Prague            24190\n",
       "Bangkok           22877\n",
       "Dublin            22181\n",
       "Guadalajara       21569\n",
       "Seattle           21184\n",
       "Barcelona         20539\n",
       "Taipei            20207\n",
       "Boston            18988\n",
       "Los Angeles       17855\n",
       "Stockholm         16614\n",
       "Zagreb            15285\n",
       "San Francisco     14696\n",
       "Washington DC     13728\n",
       "Glasgow           13431\n",
       "Kiev              12414\n",
       "Minneapolis       11736\n",
       "Kyoto             10445\n",
       "Gaborone           9928\n",
       "Helsinki           9785\n",
       "Hong Kong          9108\n",
       "Amsterdam          9015\n",
       "Tel Aviv           8919\n",
       "Bratislava         8873\n",
       "Copenhagen         7108\n",
       "Valparaiso         6077\n",
       "Name: count, dtype: int64"
      ]
     },
     "execution_count": 9,
     "metadata": {},
     "output_type": "execute_result"
    }
   ],
   "source": [
    "place_right_counts = data['place_name_right'].value_counts()\n",
    "place_right_counts"
   ]
  },
  {
   "cell_type": "code",
   "execution_count": 10,
   "id": "e0399770-fc24-4ad4-ad88-319ade4111b8",
   "metadata": {},
   "outputs": [
    {
     "data": {
      "image/png": "[encoded data removed]",
      "text/plain": [
       "<Figure size 2000x500 with 1 Axes>"
      ]
     },
     "metadata": {},
     "output_type": "display_data"
    }
   ],
   "source": [
    "import matplotlib.pyplot as plt\n",
    "fig,ax = plt.subplots(1,1,figsize = (20,5))\n",
    "plt.bar(place_right_counts.index,place_right_counts.values,facecolor = 'orange',edgecolor = 'white')\n",
    "plt.title('City Distribution')\n",
    "plt.xlabel('City')\n",
    "plt.ylabel('Frequency')\n",
    "plt.grid(True,linestyle = ':',alpha = 0.5)\n",
    "for label in ax.get_xticklabels():\n",
    "    label.set_rotation(90)\n",
    "plt.show()"
   ]
  },
  {
   "cell_type": "code",
   "execution_count": 11,
   "id": "c81cfb06-8601-4337-a16b-2463905c37ce",
   "metadata": {},
   "outputs": [],
   "source": [
    "# 同时满足三个col的三个条件"
   ]
  },
  {
   "cell_type": "code",
   "execution_count": 12,
   "id": "4f00bdf4-068c-42bf-acd5-e8534caf7ae3",
   "metadata": {},
   "outputs": [],
   "source": [
    "Atlanta_Wealth_left = data[\n",
    "    (data['place_name_left'] == 'Atlanta') & \n",
    "    (data['study_question'] == 'wealthier') &\n",
    "    (data['choice'] == 'left')\n",
    "]"
   ]
  },
  {
   "cell_type": "code",
   "execution_count": 13,
   "id": "2d558438-69b9-4a89-aef9-dc756294d79c",
   "metadata": {},
   "outputs": [],
   "source": [
    "Atlanta_Wealth_right = data[\n",
    "    (data['place_name_right'] == 'Atlanta') &\n",
    "    (data['study_question'] == 'wealthier') &\n",
    "    (data['choice'] == 'right')\n",
    "]"
   ]
  },
  {
   "cell_type": "code",
   "execution_count": 14,
   "id": "33afe853-1896-4f0c-b181-de95e13154d8",
   "metadata": {},
   "outputs": [
    {
     "data": {
      "text/html": [
       "<div>\n",
       "<style scoped>\n",
       "    .dataframe tbody tr th:only-of-type {\n",
       "        vertical-align: middle;\n",
       "    }\n",
       "\n",
       "    .dataframe tbody tr th {\n",
       "        vertical-align: top;\n",
       "    }\n",
       "\n",
       "    .dataframe thead th {\n",
       "        text-align: right;\n",
       "    }\n",
       "</style>\n",
       "<table border=\"1\" class=\"dataframe\">\n",
       "  <thead>\n",
       "    <tr style=\"text-align: right;\">\n",
       "      <th></th>\n",
       "      <th>Unnamed: 0</th>\n",
       "      <th>place_id_left</th>\n",
       "      <th>place_id_right</th>\n",
       "      <th>study_id</th>\n",
       "      <th>left</th>\n",
       "      <th>right</th>\n",
       "      <th>voter_uniqueid</th>\n",
       "      <th>choice</th>\n",
       "      <th>study_question</th>\n",
       "      <th>place_name_right</th>\n",
       "      <th>place_name_left</th>\n",
       "      <th>day</th>\n",
       "      <th>time</th>\n",
       "      <th>long_right</th>\n",
       "      <th>lat_right</th>\n",
       "      <th>long_left</th>\n",
       "      <th>lat_left</th>\n",
       "    </tr>\n",
       "  </thead>\n",
       "  <tbody>\n",
       "    <tr>\n",
       "      <th>0</th>\n",
       "      <td>573894</td>\n",
       "      <td>50e734e9d7c3df413b000ebf</td>\n",
       "      <td>50e5ff26d7c3df413b000902</td>\n",
       "      <td>50f62cb7a84ea7c5fdd2e458</td>\n",
       "      <td>513d7d32fdc9f0358700713b</td>\n",
       "      <td>51409199fdc9f04926000541</td>\n",
       "      <td>9107339040ac42fb9de53c039a2c35b0</td>\n",
       "      <td>left</td>\n",
       "      <td>wealthier</td>\n",
       "      <td>Madrid</td>\n",
       "      <td>Atlanta</td>\n",
       "      <td>2013-09-23</td>\n",
       "      <td>16:18:09</td>\n",
       "      <td>40.472893</td>\n",
       "      <td>-3.675025</td>\n",
       "      <td>33.835181</td>\n",
       "      <td>-84.482206</td>\n",
       "    </tr>\n",
       "    <tr>\n",
       "      <th>1</th>\n",
       "      <td>573918</td>\n",
       "      <td>50e734e9d7c3df413b000ebf</td>\n",
       "      <td>50e5fdeed7c3df413b000899</td>\n",
       "      <td>50f62cb7a84ea7c5fdd2e458</td>\n",
       "      <td>513d9ef9fdc9f035870085b4</td>\n",
       "      <td>513e2122fdc9f0358700a3bc</td>\n",
       "      <td>b55b3f39feb1443a987a306ca74e5f7e</td>\n",
       "      <td>left</td>\n",
       "      <td>wealthier</td>\n",
       "      <td>London</td>\n",
       "      <td>Atlanta</td>\n",
       "      <td>2016-04-22</td>\n",
       "      <td>13:23:58</td>\n",
       "      <td>51.512408</td>\n",
       "      <td>-0.030364</td>\n",
       "      <td>33.880258</td>\n",
       "      <td>-84.339019</td>\n",
       "    </tr>\n",
       "    <tr>\n",
       "      <th>2</th>\n",
       "      <td>573922</td>\n",
       "      <td>50e734e9d7c3df413b000ebf</td>\n",
       "      <td>50f39092fdc9f065f000097d</td>\n",
       "      <td>50f62cb7a84ea7c5fdd2e458</td>\n",
       "      <td>513d9dc3fdc9f035870081b2</td>\n",
       "      <td>50f5e6fdfdc9f065f0006e98</td>\n",
       "      <td>230e57de17a6420f815f6e442e0f7d38</td>\n",
       "      <td>left</td>\n",
       "      <td>wealthier</td>\n",
       "      <td>Sao Paulo</td>\n",
       "      <td>Atlanta</td>\n",
       "      <td>2014-05-19</td>\n",
       "      <td>15:45:29</td>\n",
       "      <td>-23.567968</td>\n",
       "      <td>-46.586252</td>\n",
       "      <td>33.754230</td>\n",
       "      <td>-84.378092</td>\n",
       "    </tr>\n",
       "    <tr>\n",
       "      <th>3</th>\n",
       "      <td>574016</td>\n",
       "      <td>50e734e9d7c3df413b000ebf</td>\n",
       "      <td>50e700fdd7c3df413b000bdb</td>\n",
       "      <td>50f62cb7a84ea7c5fdd2e458</td>\n",
       "      <td>513d9f97fdc9f03587008793</td>\n",
       "      <td>5140b755fdc9f04926001991</td>\n",
       "      <td>039240696b874829b4353508649de7ff</td>\n",
       "      <td>left</td>\n",
       "      <td>wealthier</td>\n",
       "      <td>Zagreb</td>\n",
       "      <td>Atlanta</td>\n",
       "      <td>2013-07-29</td>\n",
       "      <td>15:04:35</td>\n",
       "      <td>45.814032</td>\n",
       "      <td>15.933212</td>\n",
       "      <td>33.873729</td>\n",
       "      <td>-84.277445</td>\n",
       "    </tr>\n",
       "    <tr>\n",
       "      <th>4</th>\n",
       "      <td>574031</td>\n",
       "      <td>50e734e9d7c3df413b000ebf</td>\n",
       "      <td>50e70a8cd7c3df413b000c72</td>\n",
       "      <td>50f62cb7a84ea7c5fdd2e458</td>\n",
       "      <td>513d7cc9fdc9f03587006fe6</td>\n",
       "      <td>513d9ab3fdc9f03587007793</td>\n",
       "      <td>fd3052ad956e46d2b0491cf02ce8ab0e</td>\n",
       "      <td>left</td>\n",
       "      <td>wealthier</td>\n",
       "      <td>New York</td>\n",
       "      <td>Atlanta</td>\n",
       "      <td>2016-02-08</td>\n",
       "      <td>11:58:04</td>\n",
       "      <td>40.745498</td>\n",
       "      <td>-73.948231</td>\n",
       "      <td>33.691367</td>\n",
       "      <td>-84.463491</td>\n",
       "    </tr>\n",
       "  </tbody>\n",
       "</table>\n",
       "</div>"
      ],
      "text/plain": [
       "   Unnamed: 0             place_id_left            place_id_right  \\\n",
       "0      573894  50e734e9d7c3df413b000ebf  50e5ff26d7c3df413b000902   \n",
       "1      573918  50e734e9d7c3df413b000ebf  50e5fdeed7c3df413b000899   \n",
       "2      573922  50e734e9d7c3df413b000ebf  50f39092fdc9f065f000097d   \n",
       "3      574016  50e734e9d7c3df413b000ebf  50e700fdd7c3df413b000bdb   \n",
       "4      574031  50e734e9d7c3df413b000ebf  50e70a8cd7c3df413b000c72   \n",
       "\n",
       "                   study_id                      left  \\\n",
       "0  50f62cb7a84ea7c5fdd2e458  513d7d32fdc9f0358700713b   \n",
       "1  50f62cb7a84ea7c5fdd2e458  513d9ef9fdc9f035870085b4   \n",
       "2  50f62cb7a84ea7c5fdd2e458  513d9dc3fdc9f035870081b2   \n",
       "3  50f62cb7a84ea7c5fdd2e458  513d9f97fdc9f03587008793   \n",
       "4  50f62cb7a84ea7c5fdd2e458  513d7cc9fdc9f03587006fe6   \n",
       "\n",
       "                      right                    voter_uniqueid choice  \\\n",
       "0  51409199fdc9f04926000541  9107339040ac42fb9de53c039a2c35b0   left   \n",
       "1  513e2122fdc9f0358700a3bc  b55b3f39feb1443a987a306ca74e5f7e   left   \n",
       "2  50f5e6fdfdc9f065f0006e98  230e57de17a6420f815f6e442e0f7d38   left   \n",
       "3  5140b755fdc9f04926001991  039240696b874829b4353508649de7ff   left   \n",
       "4  513d9ab3fdc9f03587007793  fd3052ad956e46d2b0491cf02ce8ab0e   left   \n",
       "\n",
       "  study_question place_name_right place_name_left         day      time  \\\n",
       "0      wealthier           Madrid         Atlanta  2013-09-23  16:18:09   \n",
       "1      wealthier           London         Atlanta  2016-04-22  13:23:58   \n",
       "2      wealthier        Sao Paulo         Atlanta  2014-05-19  15:45:29   \n",
       "3      wealthier           Zagreb         Atlanta  2013-07-29  15:04:35   \n",
       "4      wealthier         New York         Atlanta  2016-02-08  11:58:04   \n",
       "\n",
       "   long_right  lat_right  long_left   lat_left  \n",
       "0   40.472893  -3.675025  33.835181 -84.482206  \n",
       "1   51.512408  -0.030364  33.880258 -84.339019  \n",
       "2  -23.567968 -46.586252  33.754230 -84.378092  \n",
       "3   45.814032  15.933212  33.873729 -84.277445  \n",
       "4   40.745498 -73.948231  33.691367 -84.463491  "
      ]
     },
     "execution_count": 14,
     "metadata": {},
     "output_type": "execute_result"
    }
   ],
   "source": [
    "Atlanta_Wealth = pd.concat([Atlanta_Wealth_left, Atlanta_Wealth_right], ignore_index=True)\n",
    "Atlanta_Wealth.head()"
   ]
  },
  {
   "cell_type": "code",
   "execution_count": 15,
   "id": "9fdc0621-c8e5-45f9-ba34-b3aab54d3b22",
   "metadata": {},
   "outputs": [
    {
     "name": "stdout",
     "output_type": "stream",
     "text": [
      "6221 1565723\n",
      "ratio is: 0.0039732443094979124\n"
     ]
    }
   ],
   "source": [
    "print(len(Atlanta_Wealth),len(data))\n",
    "ratio = len(Atlanta_Wealth)/len(data)\n",
    "print(f'ratio is: {ratio}')"
   ]
  },
  {
   "cell_type": "code",
   "execution_count": 16,
   "id": "2bdaad90-4a95-4b94-9652-5253efb1ceb7",
   "metadata": {},
   "outputs": [],
   "source": [
    "def GetCityWealthierRatio(city):\n",
    "    \n",
    "    Wealth_left = data[\n",
    "    (data['place_name_left'] == city) & \n",
    "    (data['study_question'] == 'wealthier') &\n",
    "    (data['choice'] == 'left')]\n",
    "    \n",
    "    Wealth_right = data[\n",
    "    (data['place_name_right'] == city) & \n",
    "    (data['study_question'] == 'wealthier') &\n",
    "    (data['choice'] == 'right')]\n",
    "    \n",
    "    Wealth = pd.concat([Wealth_left,Wealth_right],ignore_index = True)\n",
    "    \n",
    "    ratio = len(Wealth)/len(data)\n",
    "\n",
    "    return ratio"
   ]
  },
  {
   "cell_type": "code",
   "execution_count": 17,
   "id": "de178e4e-67fa-45ba-a767-e0f19fd6b30a",
   "metadata": {},
   "outputs": [
    {
     "data": {
      "text/plain": [
       "0          Amsterdam\n",
       "1          Barcelona\n",
       "2     Belo Horizonte\n",
       "3             Boston\n",
       "4            Chicago\n",
       "5             Denver\n",
       "6          Hong Kong\n",
       "7               Kiev\n",
       "8              Kyoto\n",
       "9             Lisbon\n",
       "10            London\n",
       "11            Madrid\n",
       "12            Moscow\n",
       "13             Paris\n",
       "14              Rome\n",
       "15     Washington DC\n",
       "16            Zagreb\n",
       "17          New York\n",
       "18          Santiago\n",
       "19        Valparaiso\n",
       "20             Tokyo\n",
       "21           Atlanta\n",
       "22           Bangkok\n",
       "23            Berlin\n",
       "24        Bratislava\n",
       "25         Bucharest\n",
       "26         Cape Town\n",
       "27        Copenhagen\n",
       "28            Dublin\n",
       "29          Gaborone\n",
       "30           Glasgow\n",
       "31       Guadalajara\n",
       "32          Helsinki\n",
       "33           Houston\n",
       "34      Johannesburg\n",
       "35       Los Angeles\n",
       "36         Melbourne\n",
       "37       Mexico City\n",
       "38             Milan\n",
       "39       Minneapolis\n",
       "40          Montreal\n",
       "41            Munich\n",
       "42      Philadelphia\n",
       "43          Portland\n",
       "44            Prague\n",
       "45    Rio De Janeiro\n",
       "46     San Francisco\n",
       "47         Sao Paulo\n",
       "48           Seattle\n",
       "49         Singapore\n",
       "50         Stockholm\n",
       "51            Sydney\n",
       "52            Taipei\n",
       "53          Tel Aviv\n",
       "54           Toronto\n",
       "55            Warsaw\n",
       "dtype: object"
      ]
     },
     "execution_count": 17,
     "metadata": {},
     "output_type": "execute_result"
    }
   ],
   "source": [
    "cities_left = data['place_name_left'].unique()\n",
    "cities_right = data['place_name_right'].unique()\n",
    "cities = pd.Series(list(cities_left) + list(cities_right)).drop_duplicates().reset_index(drop = True)\n",
    "cities"
   ]
  },
  {
   "cell_type": "code",
   "execution_count": 18,
   "id": "1664fda1-a731-4bca-97a7-13c39aca7578",
   "metadata": {},
   "outputs": [],
   "source": [
    "ratios = []\n",
    "for city in cities:\n",
    "    ratio = GetCityWealthierRatio(city)\n",
    "    ratios.append(ratio)"
   ]
  },
  {
   "cell_type": "markdown",
   "id": "51cf3963-877c-4668-9f7c-81e56c6e7dad",
   "metadata": {},
   "source": [
    "这段代码 city_ratio_sorted = sorted(city_ratios, key = lambda x:x[1], reverse = True) 的主要功能是对 city_ratios 这个可迭代对象进行排序，并将排序后的结果存储在 city_ratio_sorted 中。\n",
    "\n",
    "代码含义分析\n",
    "sorted() 是 Python 的内置函数，用于对可迭代对象进行排序，它会返回一个新的已排序列表，而不会改变原有的可迭代对象。\n",
    "city_ratios 是需要进行排序的可迭代对象，通常是列表、元组等。\n",
    "key = lambda x:x[1] 是 sorted() 函数的一个参数，用于指定排序的规则。lambda 是 Python 中的匿名函数，这里 lambda x:x[1] 表示对于 city_ratios 中的每个元素 x，取其索引为 1 的元素作为排序的依据。\n",
    "reverse = True 也是 sorted() 函数的一个参数，它表示按照降序进行排序。如果 reverse = False 或者不写该参数，则默认按照升序排序。"
   ]
  },
  {
   "cell_type": "markdown",
   "id": "b5d81cae-5d17-4859-8564-c69906ace834",
   "metadata": {},
   "source": [
    "key = lambda x:x[1]：key 参数指定了排序的规则。这里使用了一个匿名函数（lambda 函数），lambda x:x[1] 表示对于 city_ratios 中的每个元素 x，取其索引为 1 的元素作为排序的依据。也就是说，排序是根据每个元素的第二个值来进行的。ratio"
   ]
  },
  {
   "cell_type": "code",
   "execution_count": 19,
   "id": "09e445b4-37d6-478b-9f24-e49f9617796b",
   "metadata": {},
   "outputs": [
    {
     "data": {
      "text/plain": [
       "[('Berlin', 0.003985379278454746),\n",
       " ('Atlanta', 0.0039732443094979124),\n",
       " ('Toronto', 0.003480820042881148),\n",
       " ('Sydney', 0.003441221723127271),\n",
       " ('Chicago', 0.0033275362244790424),\n",
       " ('New York', 0.0032936860479152444),\n",
       " ('Tokyo', 0.0032604745539281214),\n",
       " ('Singapore', 0.0030445998430118225),\n",
       " ('London', 0.0029743447595775244),\n",
       " ('Melbourne', 0.002802539146451831),\n",
       " ('Paris', 0.0026569195189698304),\n",
       " ('Warsaw', 0.002640313771976269),\n",
       " ('Moscow', 0.002506829113451102),\n",
       " ('Montreal', 0.002396337027686251),\n",
       " ('Santiago', 0.0023254432616752773),\n",
       " ('Munich', 0.002306282784375014),\n",
       " ('Philadelphia', 0.0022832902116146983),\n",
       " ('Houston', 0.0022660457820444613),\n",
       " ('Denver', 0.002218783271370479),\n",
       " ('Cape Town', 0.0019064674913761885),\n",
       " ('Rome', 0.0018004461836480655),\n",
       " ('Madrid', 0.0017851178018078548),\n",
       " ('Rio De Janeiro', 0.0017812857063478022),\n",
       " ('Portland', 0.0017774536108877497),\n",
       " ('Sao Paulo', 0.0017429647517472758),\n",
       " ('Dublin', 0.001679096494079732),\n",
       " ('Prague', 0.001586487520461793),\n",
       " ('Seattle', 0.0014919624991138278),\n",
       " ('Milan', 0.0014779114824269683),\n",
       " ('Johannesburg', 0.001471524656660214),\n",
       " ('Boston', 0.0014510868142065998),\n",
       " ('Bucharest', 0.00143703579751974),\n",
       " ('Lisbon', 0.0014357584323663893),\n",
       " ('Barcelona', 0.001251179167707187),\n",
       " ('Mexico City', 0.0012371281510203274),\n",
       " ('Stockholm', 0.0012122195305299852),\n",
       " ('Washington DC', 0.0011796467191195377),\n",
       " ('Los Angeles', 0.001138132351635634),\n",
       " ('San Francisco', 0.0009874032635402302),\n",
       " ('Taipei', 0.000978461707466774),\n",
       " ('Bangkok', 0.000947804943786353),\n",
       " ('Belo Horizonte', 0.0009452502134796513),\n",
       " ('Guadalajara', 0.0009407794354429231),\n",
       " ('Glasgow', 0.0008871300990021862),\n",
       " ('Minneapolis', 0.0008296486671013966),\n",
       " ('Zagreb', 0.0007817474738507387),\n",
       " ('Helsinki', 0.0006929705956928525),\n",
       " ('Amsterdam', 0.0006859450873494226),\n",
       " ('Hong Kong', 0.0006131352736084224),\n",
       " ('Kiev', 0.0005984455743448873),\n",
       " ('Tel Aviv', 0.0005499056985175539),\n",
       " ('Kyoto', 0.0005320225863706415),\n",
       " ('Copenhagen', 0.0005313839037939661),\n",
       " ('Bratislava', 0.0004911469014634134),\n",
       " ('Gaborone', 0.0002727174602404129),\n",
       " ('Valparaiso', 0.000271440095087062)]"
      ]
     },
     "execution_count": 19,
     "metadata": {},
     "output_type": "execute_result"
    }
   ],
   "source": [
    "# 组合城市与 ratio （已经知道是对应顺序的了）\n",
    "city_ratios = list(zip(cities,ratios))\n",
    "city_ratio_sorted = sorted(city_ratios,key = lambda x:x[1],reverse = True)\n",
    "city_ratio_sorted"
   ]
  },
  {
   "cell_type": "markdown",
   "id": "5e5ed9d7-2bea-4972-81f6-8143cf435dcc",
   "metadata": {},
   "source": [
    "*用于解开元组包"
   ]
  },
  {
   "cell_type": "code",
   "execution_count": 20,
   "id": "414e40ae-d96e-40b3-8724-3becec3b9572",
   "metadata": {},
   "outputs": [],
   "source": [
    "sorted_cities,sorted_ratios = zip(*city_ratio_sorted)"
   ]
  },
  {
   "cell_type": "code",
   "execution_count": 21,
   "id": "c6b5e44c-5190-4907-91ae-697231d9b4ec",
   "metadata": {},
   "outputs": [
    {
     "data": {
      "text/plain": [
       "('Berlin',\n",
       " 'Atlanta',\n",
       " 'Toronto',\n",
       " 'Sydney',\n",
       " 'Chicago',\n",
       " 'New York',\n",
       " 'Tokyo',\n",
       " 'Singapore',\n",
       " 'London',\n",
       " 'Melbourne',\n",
       " 'Paris',\n",
       " 'Warsaw',\n",
       " 'Moscow',\n",
       " 'Montreal',\n",
       " 'Santiago',\n",
       " 'Munich',\n",
       " 'Philadelphia',\n",
       " 'Houston',\n",
       " 'Denver',\n",
       " 'Cape Town',\n",
       " 'Rome',\n",
       " 'Madrid',\n",
       " 'Rio De Janeiro',\n",
       " 'Portland',\n",
       " 'Sao Paulo',\n",
       " 'Dublin',\n",
       " 'Prague',\n",
       " 'Seattle',\n",
       " 'Milan',\n",
       " 'Johannesburg',\n",
       " 'Boston',\n",
       " 'Bucharest',\n",
       " 'Lisbon',\n",
       " 'Barcelona',\n",
       " 'Mexico City',\n",
       " 'Stockholm',\n",
       " 'Washington DC',\n",
       " 'Los Angeles',\n",
       " 'San Francisco',\n",
       " 'Taipei',\n",
       " 'Bangkok',\n",
       " 'Belo Horizonte',\n",
       " 'Guadalajara',\n",
       " 'Glasgow',\n",
       " 'Minneapolis',\n",
       " 'Zagreb',\n",
       " 'Helsinki',\n",
       " 'Amsterdam',\n",
       " 'Hong Kong',\n",
       " 'Kiev',\n",
       " 'Tel Aviv',\n",
       " 'Kyoto',\n",
       " 'Copenhagen',\n",
       " 'Bratislava',\n",
       " 'Gaborone',\n",
       " 'Valparaiso')"
      ]
     },
     "execution_count": 21,
     "metadata": {},
     "output_type": "execute_result"
    }
   ],
   "source": [
    "sorted_cities"
   ]
  }
 ],
 "metadata": {
  "kernelspec": {
   "display_name": "Python [conda env:base] *",
   "language": "python",
   "name": "conda-base-py"
  },
  "language_info": {
   "codemirror_mode": {
    "name": "ipython",
    "version": 3
   },
   "file_extension": ".py",
   "mimetype": "text/x-python",
   "name": "python",
   "nbconvert_exporter": "python",
   "pygments_lexer": "ipython3",
   "version": "3.13.5"
  }
 },
 "nbformat": 4,
 "nbformat_minor": 5
}
